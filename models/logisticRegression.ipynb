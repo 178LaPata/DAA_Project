{
 "cells": [
  {
   "cell_type": "markdown",
   "id": "ae8b7132745181f0",
   "metadata": {},
   "source": [
    "# Decision Trees"
   ]
  },
  {
   "cell_type": "code",
   "execution_count": 1,
   "id": "initial_id",
   "metadata": {
    "ExecuteTime": {
     "end_time": "2024-11-25T18:29:36.000560Z",
     "start_time": "2024-11-25T18:29:35.997768Z"
    },
    "collapsed": true
   },
   "outputs": [],
   "source": [
    "import sklearn as skl\n",
    "import pandas as pd\n",
    "import matplotlib.pyplot as plt\n",
    "import seaborn as sns\n",
    "from sklearn import preprocessing\n",
    "from sklearn.model_selection import train_test_split\n",
    "from sklearn.model_selection import GridSearchCV\n",
    "from sklearn.linear_model import LogisticRegression\n",
    "from sklearn.preprocessing import StandardScaler\n",
    "\n",
    "train = pd.read_csv('../data/train_pca.csv')\n",
    "test = pd.read_csv('../data/test_pca.csv')"
   ]
  },
  {
   "cell_type": "code",
   "execution_count": 2,
   "id": "5379a6c2",
   "metadata": {},
   "outputs": [],
   "source": [
    "X_train = train.drop('Transition', axis=1)\n",
    "y_train = train['Transition']\n",
    "\n",
    "X_teste = test"
   ]
  },
  {
   "cell_type": "code",
   "execution_count": 3,
   "id": "3a4ca83f",
   "metadata": {},
   "outputs": [],
   "source": [
    "scaler = StandardScaler()\n",
    "\n",
    "X_train_normalized = scaler.fit_transform(X_train)\n",
    "X_teste_normalized = scaler.fit_transform(X_teste)"
   ]
  },
  {
   "cell_type": "code",
   "execution_count": 4,
   "id": "c7ced20c6960b814",
   "metadata": {},
   "outputs": [
    {
     "name": "stdout",
     "output_type": "stream",
     "text": [
      "Fitting 5 folds for each of 5 candidates, totalling 25 fits\n"
     ]
    },
    {
     "name": "stdout",
     "output_type": "stream",
     "text": [
      "[CV] END ...................max_iter=20000, solver=newton-cg; total time=   0.0s\n",
      "[CV] END ...................max_iter=20000, solver=newton-cg; total time=   0.0s\n",
      "[CV] END ...................max_iter=20000, solver=newton-cg; total time=   0.0s\n",
      "[CV] END .......................max_iter=20000, solver=lbfgs; total time=   0.0s\n",
      "[CV] END .......................max_iter=20000, solver=lbfgs; total time=   0.0s\n",
      "[CV] END ...................max_iter=20000, solver=newton-cg; total time=   0.0s\n",
      "[CV] END .......................max_iter=20000, solver=lbfgs; total time=   0.0s\n",
      "[CV] END .......................max_iter=20000, solver=lbfgs; total time=   0.0s\n",
      "[CV] END ...................max_iter=20000, solver=newton-cg; total time=   0.0s\n",
      "[CV] END .......................max_iter=20000, solver=lbfgs; total time=   0.0s\n",
      "[CV] END ...................max_iter=20000, solver=liblinear; total time=   0.0s\n",
      "[CV] END ...................max_iter=20000, solver=liblinear; total time=   0.0s\n",
      "[CV] END ...................max_iter=20000, solver=liblinear; total time=   0.0s\n",
      "[CV] END ...................max_iter=20000, solver=liblinear; total time=   0.0s\n",
      "[CV] END ...................max_iter=20000, solver=liblinear; total time=   0.0s\n",
      "[CV] END .........................max_iter=20000, solver=sag; total time=   0.0s\n",
      "[CV] END .........................max_iter=20000, solver=sag; total time=   0.0s\n",
      "[CV] END .........................max_iter=20000, solver=sag; total time=   0.0s\n",
      "[CV] END .........................max_iter=20000, solver=sag; total time=   0.0s\n",
      "[CV] END .........................max_iter=20000, solver=sag; total time=   0.0s\n",
      "[CV] END ........................max_iter=20000, solver=saga; total time=   0.0s\n",
      "[CV] END ........................max_iter=20000, solver=saga; total time=   0.0s\n",
      "[CV] END ........................max_iter=20000, solver=saga; total time=   0.0s\n",
      "[CV] END ........................max_iter=20000, solver=saga; total time=   0.0s\n",
      "[CV] END ........................max_iter=20000, solver=saga; total time=   0.0s\n"
     ]
    },
    {
     "data": {
      "text/plain": [
       "(0.5416666666666667, {'max_iter': 20000, 'solver': 'newton-cg'})"
      ]
     },
     "execution_count": 4,
     "metadata": {},
     "output_type": "execute_result"
    }
   ],
   "source": [
    "\n",
    "clf = LogisticRegression(random_state=183)\n",
    "\n",
    "params =  {'max_iter': [20000], 'solver': ['newton-cg', 'lbfgs', 'liblinear', 'sag', 'saga']}\n",
    "grid = GridSearchCV(estimator=clf,\n",
    "                    param_grid=params,\n",
    "                    cv=5,\n",
    "                    n_jobs=5,\n",
    "                    verbose=2)\n",
    "grid.fit(X_train_normalized, y_train)\n",
    "grid.best_score_, grid.best_params_"
   ]
  },
  {
   "cell_type": "code",
   "execution_count": 5,
   "id": "00ed1812",
   "metadata": {},
   "outputs": [
    {
     "name": "stderr",
     "output_type": "stream",
     "text": [
      "/Users/lapata/miniconda3/envs/myenv/lib/python3.12/site-packages/sklearn/base.py:486: UserWarning: X has feature names, but LogisticRegression was fitted without feature names\n",
      "  warnings.warn(\n"
     ]
    }
   ],
   "source": [
    "mapping = {0: 'CN-CN', 1: 'CN-MCI', 2: 'MCI-MCI', 3: 'MCI-AD', 4: 'AD-AD'}\n",
    "\n",
    "predictions = grid.predict(X_teste)\n",
    "\n",
    "predictions_mapped = [mapping[pred] for pred in predictions]\n",
    "\n",
    "predict_data = {'Result': predictions_mapped}\n",
    "df = pd.DataFrame(predict_data)\n",
    "df.index += 1\n",
    "df.index.name = 'RowId'\n",
    "\n",
    "df.to_csv(f'../output/lrPrediction.csv')"
   ]
  }
 ],
 "metadata": {
  "kernelspec": {
   "display_name": "myenv",
   "language": "python",
   "name": "python3"
  },
  "language_info": {
   "codemirror_mode": {
    "name": "ipython",
    "version": 3
   },
   "file_extension": ".py",
   "mimetype": "text/x-python",
   "name": "python",
   "nbconvert_exporter": "python",
   "pygments_lexer": "ipython3",
   "version": "3.12.4"
  }
 },
 "nbformat": 4,
 "nbformat_minor": 5
}
